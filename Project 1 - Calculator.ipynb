{
 "cells": [
  {
   "cell_type": "code",
   "execution_count": 18,
   "metadata": {
    "scrolled": false
   },
   "outputs": [
    {
     "name": "stdout",
     "output_type": "stream",
     "text": [
      "\n",
      "Which operation would you like to use?\n",
      "1. Addition\n",
      "2. Subtraction\n",
      "3. Multiplication\n",
      "4. Division\n",
      "3\n",
      "Input the first number: 5\n",
      "Now input your second number: 5\n",
      "Your result is:  25\n"
     ]
    }
   ],
   "source": [
    "### Tristan Clark's Calculator\n",
    "\n",
    "def addition(x, y):\n",
    "    return x + y\n",
    "\n",
    "def sub(x, y):\n",
    "    return x - y\n",
    "\n",
    "def mult(x, y):\n",
    "    return x * y\n",
    "\n",
    "def div(x, y):\n",
    "    return x / y\n",
    "\n",
    "decision = input('''\n",
    "Which operation would you like to use?\n",
    "1. Addition\n",
    "2. Subtraction\n",
    "3. Multiplication\n",
    "4. Division\n",
    "''')\n",
    "\n",
    "firstnum = int(input(\"Input the first number: \"))\n",
    "\n",
    "secondnum = int(input(\"Now input your second number: \"))\n",
    "\n",
    "if decision == \"1\":\n",
    "    print (\"Your result is: \", addition(firstnum, secondnum));\n",
    "\n",
    "    \n",
    "elif decision == \"2\":\n",
    "    print (\"Your result is: \", sub(firstnum, secondnum));\n",
    "    \n",
    "elif decision == \"3\":\n",
    "    print (\"Your result is: \", mult(firstnum, secondnum));\n",
    "    \n",
    "elif decision == \"4\":\n",
    "    print (\"Your result is: \", div(firstnum, secondnum));\n",
    "    "
   ]
  }
 ],
 "metadata": {
  "kernelspec": {
   "display_name": "Python 3",
   "language": "python",
   "name": "python3"
  },
  "language_info": {
   "codemirror_mode": {
    "name": "ipython",
    "version": 3
   },
   "file_extension": ".py",
   "mimetype": "text/x-python",
   "name": "python",
   "nbconvert_exporter": "python",
   "pygments_lexer": "ipython3",
   "version": "3.8.5"
  }
 },
 "nbformat": 4,
 "nbformat_minor": 4
}
